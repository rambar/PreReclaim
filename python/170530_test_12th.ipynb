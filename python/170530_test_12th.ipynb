{
 "cells": [
  {
   "cell_type": "code",
   "execution_count": 1,
   "metadata": {
    "collapsed": true
   },
   "outputs": [],
   "source": [
    "import PreReclaim"
   ]
  },
  {
   "cell_type": "markdown",
   "metadata": {},
   "source": [
    "### 12차 실험\n",
    "- 바이너리 업데이트 (0530.1)\n",
    "- CPU 4개 에서 실험\n",
    "- 결과: 만족스럽지 못함, 개선효과가 크지 않다"
   ]
  },
  {
   "cell_type": "code",
   "execution_count": 24,
   "metadata": {
    "collapsed": false
   },
   "outputs": [
    {
     "data": {
      "text/html": [
       "<div>\n",
       "<table border=\"1\" class=\"dataframe\">\n",
       "  <thead>\n",
       "    <tr style=\"text-align: right;\">\n",
       "      <th></th>\n",
       "      <th>org.volt.apps</th>\n",
       "      <th>org.tizen.ignition</th>\n",
       "      <th>/usr/bin/wascmd -r RN1MCdNq8t.Netflix</th>\n",
       "      <th>/usr/bin/wascmd -r 9Ur5IzDKqV.TizenYouTube</th>\n",
       "      <th>file</th>\n",
       "      <th>sum</th>\n",
       "    </tr>\n",
       "  </thead>\n",
       "  <tbody>\n",
       "    <tr>\n",
       "      <th>0</th>\n",
       "      <td>10.1</td>\n",
       "      <td>13.6</td>\n",
       "      <td>2.4</td>\n",
       "      <td>2.7</td>\n",
       "      <td>../pr_disabled_20170530_151912.txt</td>\n",
       "      <td>28.8</td>\n",
       "    </tr>\n",
       "    <tr>\n",
       "      <th>1</th>\n",
       "      <td>9.8</td>\n",
       "      <td>14.0</td>\n",
       "      <td>2.3</td>\n",
       "      <td>2.4</td>\n",
       "      <td>../pr_disabled_20170530_154305.txt</td>\n",
       "      <td>28.5</td>\n",
       "    </tr>\n",
       "    <tr>\n",
       "      <th>2</th>\n",
       "      <td>10.1</td>\n",
       "      <td>13.6</td>\n",
       "      <td>2.2</td>\n",
       "      <td>2.4</td>\n",
       "      <td>../pr_disabled_20170530_155421.txt</td>\n",
       "      <td>28.3</td>\n",
       "    </tr>\n",
       "    <tr>\n",
       "      <th>3</th>\n",
       "      <td>9.8</td>\n",
       "      <td>11.1</td>\n",
       "      <td>2.4</td>\n",
       "      <td>1.8</td>\n",
       "      <td>../pr_enabled_20170530_153014.txt</td>\n",
       "      <td>25.1</td>\n",
       "    </tr>\n",
       "    <tr>\n",
       "      <th>4</th>\n",
       "      <td>9.9</td>\n",
       "      <td>13.7</td>\n",
       "      <td>2.4</td>\n",
       "      <td>1.9</td>\n",
       "      <td>../pr_enabled_20170530_154854.txt</td>\n",
       "      <td>27.9</td>\n",
       "    </tr>\n",
       "    <tr>\n",
       "      <th>5</th>\n",
       "      <td>10.0</td>\n",
       "      <td>13.6</td>\n",
       "      <td>2.3</td>\n",
       "      <td>2.0</td>\n",
       "      <td>../pr_enabled_20170530_155807.txt</td>\n",
       "      <td>27.9</td>\n",
       "    </tr>\n",
       "  </tbody>\n",
       "</table>\n",
       "</div>"
      ],
      "text/plain": [
       "   org.volt.apps  org.tizen.ignition  /usr/bin/wascmd -r RN1MCdNq8t.Netflix  \\\n",
       "0           10.1                13.6                                    2.4   \n",
       "1            9.8                14.0                                    2.3   \n",
       "2           10.1                13.6                                    2.2   \n",
       "3            9.8                11.1                                    2.4   \n",
       "4            9.9                13.7                                    2.4   \n",
       "5           10.0                13.6                                    2.3   \n",
       "\n",
       "   /usr/bin/wascmd -r 9Ur5IzDKqV.TizenYouTube  \\\n",
       "0                                         2.7   \n",
       "1                                         2.4   \n",
       "2                                         2.4   \n",
       "3                                         1.8   \n",
       "4                                         1.9   \n",
       "5                                         2.0   \n",
       "\n",
       "                                 file   sum  \n",
       "0  ../pr_disabled_20170530_151912.txt  28.8  \n",
       "1  ../pr_disabled_20170530_154305.txt  28.5  \n",
       "2  ../pr_disabled_20170530_155421.txt  28.3  \n",
       "3   ../pr_enabled_20170530_153014.txt  25.1  \n",
       "4   ../pr_enabled_20170530_154854.txt  27.9  \n",
       "5   ../pr_enabled_20170530_155807.txt  27.9  "
      ]
     },
     "execution_count": 24,
     "metadata": {},
     "output_type": "execute_result"
    }
   ],
   "source": [
    "files = [\"../pr_disabled_20170530_151912.txt\",\n",
    "         \"../pr_disabled_20170530_154305.txt\",\n",
    "         \"../pr_disabled_20170530_155421.txt\",\n",
    "         \"../pr_enabled_20170530_153014.txt\",\n",
    "         \"../pr_enabled_20170530_154854.txt\",\n",
    "         \"../pr_enabled_20170530_155807.txt\"]\n",
    "df = PreReclaim.show_result(files)\n",
    "df = df.drop(['org.tizen.browser', 'sum'], axis=1)\n",
    "df['sum'] = df.sum(axis=1)\n",
    "df"
   ]
  },
  {
   "cell_type": "code",
   "execution_count": 23,
   "metadata": {
    "collapsed": false,
    "scrolled": false
   },
   "outputs": [],
   "source": [
    "#PreReclaim.compare(files, 2)"
   ]
  },
  {
   "cell_type": "code",
   "execution_count": null,
   "metadata": {
    "collapsed": true
   },
   "outputs": [],
   "source": []
  }
 ],
 "metadata": {
  "kernelspec": {
   "display_name": "Python 3",
   "language": "python",
   "name": "python3"
  },
  "language_info": {
   "codemirror_mode": {
    "name": "ipython",
    "version": 3
   },
   "file_extension": ".py",
   "mimetype": "text/x-python",
   "name": "python",
   "nbconvert_exporter": "python",
   "pygments_lexer": "ipython3",
   "version": "3.6.0"
  }
 },
 "nbformat": 4,
 "nbformat_minor": 2
}
