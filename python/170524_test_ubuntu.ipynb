{
 "cells": [
  {
   "cell_type": "code",
   "execution_count": 1,
   "metadata": {
    "collapsed": true
   },
   "outputs": [],
   "source": [
    "import PreReclaim\n",
    "from pandas import Series, DataFrame"
   ]
  },
  {
   "cell_type": "code",
   "execution_count": null,
   "metadata": {
    "collapsed": false
   },
   "outputs": [
    {
     "data": {
      "text/html": [
       "<div>\n",
       "<table border=\"1\" class=\"dataframe\">\n",
       "  <thead>\n",
       "    <tr style=\"text-align: right;\">\n",
       "      <th></th>\n",
       "      <th>/usr/bin/firefox google.com</th>\n",
       "      <th>/usr/bin/firefox amazon.com</th>\n",
       "      <th>/usr/bin/firefox ebay.com</th>\n",
       "      <th>/usr/bin/firefox youtube.com</th>\n",
       "      <th>/usr/bin/firefox naver.com</th>\n",
       "      <th>file</th>\n",
       "      <th>sum</th>\n",
       "    </tr>\n",
       "  </thead>\n",
       "  <tbody>\n",
       "    <tr>\n",
       "      <th>0</th>\n",
       "      <td>4.5</td>\n",
       "      <td>4.2</td>\n",
       "      <td>36.5</td>\n",
       "      <td>10.6</td>\n",
       "      <td>10.0</td>\n",
       "      <td>../pr_disabled_20170524_153528.txt</td>\n",
       "      <td>65.8</td>\n",
       "    </tr>\n",
       "  </tbody>\n",
       "</table>\n",
       "</div>"
      ],
      "text/plain": [
       "   /usr/bin/firefox google.com  /usr/bin/firefox amazon.com  \\\n",
       "0                          4.5                          4.2   \n",
       "\n",
       "   /usr/bin/firefox ebay.com  /usr/bin/firefox youtube.com  \\\n",
       "0                       36.5                          10.6   \n",
       "\n",
       "   /usr/bin/firefox naver.com                                file   sum  \n",
       "0                        10.0  ../pr_disabled_20170524_153528.txt  65.8  "
      ]
     },
     "execution_count": 2,
     "metadata": {},
     "output_type": "execute_result"
    }
   ],
   "source": [
    "files = [\"../pr_disabled_20170524_153528.txt\"]\n",
    "PreReclaim.show_result(files) "
   ]
  },
  {
   "cell_type": "code",
   "execution_count": null,
   "metadata": {
    "collapsed": false
   },
   "outputs": [],
   "source": [
    "PreReclaim.show(\"../pr_disabled_20170524_153528.txt\")"
   ]
  },
  {
   "cell_type": "code",
   "execution_count": null,
   "metadata": {
    "collapsed": true
   },
   "outputs": [],
   "source": []
  }
 ],
 "metadata": {
  "kernelspec": {
   "display_name": "Python 3",
   "language": "python",
   "name": "python3"
  },
  "language_info": {
   "codemirror_mode": {
    "name": "ipython",
    "version": 3
   },
   "file_extension": ".py",
   "mimetype": "text/x-python",
   "name": "python",
   "nbconvert_exporter": "python",
   "pygments_lexer": "ipython3",
   "version": "3.5.2"
  }
 },
 "nbformat": 4,
 "nbformat_minor": 1
}
